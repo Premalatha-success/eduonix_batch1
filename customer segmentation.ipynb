{
 "cells": [
  {
   "cell_type": "code",
   "execution_count": 1,
   "id": "8438888d",
   "metadata": {},
   "outputs": [],
   "source": [
    "# importing the required packages\n",
    "import numpy as np \n",
    "import pandas as pd \n",
    "import matplotlib.pyplot as plt \n",
    "import seaborn as sns \n",
    "import plotly as py\n",
    "import plotly.graph_objs as go\n",
    "from sklearn.cluster import KMeans\n",
    "import warnings\n",
    "warnings.filterwarnings(\"ignore\")\n",
    "plt.rc(\"font\", size=14)"
   ]
  },
  {
   "cell_type": "code",
   "execution_count": 2,
   "id": "2b355f9a",
   "metadata": {},
   "outputs": [
    {
     "data": {
      "text/html": [
       "<div>\n",
       "<style scoped>\n",
       "    .dataframe tbody tr th:only-of-type {\n",
       "        vertical-align: middle;\n",
       "    }\n",
       "\n",
       "    .dataframe tbody tr th {\n",
       "        vertical-align: top;\n",
       "    }\n",
       "\n",
       "    .dataframe thead th {\n",
       "        text-align: right;\n",
       "    }\n",
       "</style>\n",
       "<table border=\"1\" class=\"dataframe\">\n",
       "  <thead>\n",
       "    <tr style=\"text-align: right;\">\n",
       "      <th></th>\n",
       "      <th>Merchant Id</th>\n",
       "      <th>Annual Revenue (k$)</th>\n",
       "      <th>Spending Score (1-100)</th>\n",
       "      <th>City</th>\n",
       "      <th>Most Purchased Product</th>\n",
       "      <th>Repayment Score 1-5</th>\n",
       "    </tr>\n",
       "  </thead>\n",
       "  <tbody>\n",
       "    <tr>\n",
       "      <th>0</th>\n",
       "      <td>1</td>\n",
       "      <td>15</td>\n",
       "      <td>39</td>\n",
       "      <td>Mtwara</td>\n",
       "      <td>Mtindi 500ml</td>\n",
       "      <td>1</td>\n",
       "    </tr>\n",
       "    <tr>\n",
       "      <th>1</th>\n",
       "      <td>2</td>\n",
       "      <td>15</td>\n",
       "      <td>81</td>\n",
       "      <td>Zanzibar City</td>\n",
       "      <td>Fresh Milk 250ml</td>\n",
       "      <td>2</td>\n",
       "    </tr>\n",
       "    <tr>\n",
       "      <th>2</th>\n",
       "      <td>3</td>\n",
       "      <td>16</td>\n",
       "      <td>6</td>\n",
       "      <td>Mtwara</td>\n",
       "      <td>Mtindi 500ml</td>\n",
       "      <td>3</td>\n",
       "    </tr>\n",
       "    <tr>\n",
       "      <th>3</th>\n",
       "      <td>4</td>\n",
       "      <td>16</td>\n",
       "      <td>77</td>\n",
       "      <td>Zanzibar City</td>\n",
       "      <td>Fresh Milk 250ml</td>\n",
       "      <td>4</td>\n",
       "    </tr>\n",
       "    <tr>\n",
       "      <th>4</th>\n",
       "      <td>5</td>\n",
       "      <td>17</td>\n",
       "      <td>40</td>\n",
       "      <td>Mtwara</td>\n",
       "      <td>Mtindi 500ml</td>\n",
       "      <td>2</td>\n",
       "    </tr>\n",
       "  </tbody>\n",
       "</table>\n",
       "</div>"
      ],
      "text/plain": [
       "   Merchant Id  Annual Revenue (k$)  Spending Score (1-100)           City  \\\n",
       "0            1                   15                      39         Mtwara   \n",
       "1            2                   15                      81  Zanzibar City   \n",
       "2            3                   16                       6         Mtwara   \n",
       "3            4                   16                      77  Zanzibar City   \n",
       "4            5                   17                      40         Mtwara   \n",
       "\n",
       "  Most Purchased Product  Repayment Score 1-5  \n",
       "0           Mtindi 500ml                    1  \n",
       "1       Fresh Milk 250ml                    2  \n",
       "2           Mtindi 500ml                    3  \n",
       "3       Fresh Milk 250ml                    4  \n",
       "4           Mtindi 500ml                    2  "
      ]
     },
     "execution_count": 2,
     "metadata": {},
     "output_type": "execute_result"
    }
   ],
   "source": [
    "# read the csv and print the first 5 rows\n",
    "df = pd.read_excel(\"data.xlsx\")\n",
    "df.head()"
   ]
  },
  {
   "cell_type": "code",
   "execution_count": 3,
   "id": "84ff7d7c",
   "metadata": {},
   "outputs": [],
   "source": [
    "df.rename(columns={'Genre':'Gender',\n",
    "                   'Annual Revenue (k$)':'Annual_Revenue',\n",
    "                   'Spending Score (1-100)':'Spending_Score',\n",
    "                   'Most Purchased Product': 'Most_Purchased_Product'}, inplace=True)"
   ]
  },
  {
   "cell_type": "code",
   "execution_count": 4,
   "id": "2eb208bf",
   "metadata": {},
   "outputs": [
    {
     "data": {
      "text/html": [
       "<div>\n",
       "<style scoped>\n",
       "    .dataframe tbody tr th:only-of-type {\n",
       "        vertical-align: middle;\n",
       "    }\n",
       "\n",
       "    .dataframe tbody tr th {\n",
       "        vertical-align: top;\n",
       "    }\n",
       "\n",
       "    .dataframe thead th {\n",
       "        text-align: right;\n",
       "    }\n",
       "</style>\n",
       "<table border=\"1\" class=\"dataframe\">\n",
       "  <thead>\n",
       "    <tr style=\"text-align: right;\">\n",
       "      <th></th>\n",
       "      <th>Merchant Id</th>\n",
       "      <th>Annual_Revenue</th>\n",
       "      <th>Spending_Score</th>\n",
       "      <th>Repayment Score 1-5</th>\n",
       "    </tr>\n",
       "  </thead>\n",
       "  <tbody>\n",
       "    <tr>\n",
       "      <th>count</th>\n",
       "      <td>200.000000</td>\n",
       "      <td>200.000000</td>\n",
       "      <td>200.000000</td>\n",
       "      <td>200.000000</td>\n",
       "    </tr>\n",
       "    <tr>\n",
       "      <th>mean</th>\n",
       "      <td>100.500000</td>\n",
       "      <td>60.560000</td>\n",
       "      <td>50.200000</td>\n",
       "      <td>3.990000</td>\n",
       "    </tr>\n",
       "    <tr>\n",
       "      <th>std</th>\n",
       "      <td>57.879185</td>\n",
       "      <td>26.264721</td>\n",
       "      <td>25.823522</td>\n",
       "      <td>0.850598</td>\n",
       "    </tr>\n",
       "    <tr>\n",
       "      <th>min</th>\n",
       "      <td>1.000000</td>\n",
       "      <td>15.000000</td>\n",
       "      <td>1.000000</td>\n",
       "      <td>1.000000</td>\n",
       "    </tr>\n",
       "    <tr>\n",
       "      <th>25%</th>\n",
       "      <td>50.750000</td>\n",
       "      <td>41.500000</td>\n",
       "      <td>34.750000</td>\n",
       "      <td>4.000000</td>\n",
       "    </tr>\n",
       "    <tr>\n",
       "      <th>50%</th>\n",
       "      <td>100.500000</td>\n",
       "      <td>61.500000</td>\n",
       "      <td>50.000000</td>\n",
       "      <td>4.000000</td>\n",
       "    </tr>\n",
       "    <tr>\n",
       "      <th>75%</th>\n",
       "      <td>150.250000</td>\n",
       "      <td>78.000000</td>\n",
       "      <td>73.000000</td>\n",
       "      <td>5.000000</td>\n",
       "    </tr>\n",
       "    <tr>\n",
       "      <th>max</th>\n",
       "      <td>200.000000</td>\n",
       "      <td>137.000000</td>\n",
       "      <td>99.000000</td>\n",
       "      <td>5.000000</td>\n",
       "    </tr>\n",
       "  </tbody>\n",
       "</table>\n",
       "</div>"
      ],
      "text/plain": [
       "       Merchant Id  Annual_Revenue  Spending_Score  Repayment Score 1-5\n",
       "count   200.000000      200.000000      200.000000           200.000000\n",
       "mean    100.500000       60.560000       50.200000             3.990000\n",
       "std      57.879185       26.264721       25.823522             0.850598\n",
       "min       1.000000       15.000000        1.000000             1.000000\n",
       "25%      50.750000       41.500000       34.750000             4.000000\n",
       "50%     100.500000       61.500000       50.000000             4.000000\n",
       "75%     150.250000       78.000000       73.000000             5.000000\n",
       "max     200.000000      137.000000       99.000000             5.000000"
      ]
     },
     "execution_count": 4,
     "metadata": {},
     "output_type": "execute_result"
    }
   ],
   "source": [
    "df.describe()"
   ]
  },
  {
   "cell_type": "code",
   "execution_count": 5,
   "id": "81e27bff",
   "metadata": {},
   "outputs": [
    {
     "name": "stdout",
     "output_type": "stream",
     "text": [
      "<class 'pandas.core.frame.DataFrame'>\n",
      "RangeIndex: 200 entries, 0 to 199\n",
      "Data columns (total 6 columns):\n",
      " #   Column                  Non-Null Count  Dtype \n",
      "---  ------                  --------------  ----- \n",
      " 0   Merchant Id             200 non-null    int64 \n",
      " 1   Annual_Revenue          200 non-null    int64 \n",
      " 2   Spending_Score          200 non-null    int64 \n",
      " 3   City                    200 non-null    object\n",
      " 4   Most_Purchased_Product  200 non-null    object\n",
      " 5   Repayment Score 1-5     200 non-null    int64 \n",
      "dtypes: int64(4), object(2)\n",
      "memory usage: 9.5+ KB\n"
     ]
    }
   ],
   "source": [
    "df.info()"
   ]
  },
  {
   "cell_type": "code",
   "execution_count": 6,
   "id": "f7b75c8e",
   "metadata": {},
   "outputs": [
    {
     "data": {
      "text/plain": [
       "Dar es Salaam    82\n",
       "Moshi            76\n",
       "Mtwara           21\n",
       "Zanzibar City    21\n",
       "Name: City, dtype: int64"
      ]
     },
     "execution_count": 6,
     "metadata": {},
     "output_type": "execute_result"
    }
   ],
   "source": [
    "df['City'].value_counts()"
   ]
  },
  {
   "cell_type": "code",
   "execution_count": 7,
   "id": "b1e3e654",
   "metadata": {},
   "outputs": [
    {
     "data": {
      "text/plain": [
       "Mtindi 250ml        82\n",
       "Fresh Milk 1ltr     76\n",
       "Mtindi 500ml        21\n",
       "Fresh Milk 250ml    21\n",
       "Name: Most_Purchased_Product, dtype: int64"
      ]
     },
     "execution_count": 7,
     "metadata": {},
     "output_type": "execute_result"
    }
   ],
   "source": [
    "df['Most_Purchased_Product'].value_counts()"
   ]
  },
  {
   "cell_type": "code",
   "execution_count": 8,
   "id": "fdffa124",
   "metadata": {},
   "outputs": [
    {
     "data": {
      "text/plain": [
       "Merchant Id               0\n",
       "Annual_Revenue            0\n",
       "Spending_Score            0\n",
       "City                      0\n",
       "Most_Purchased_Product    0\n",
       "Repayment Score 1-5       0\n",
       "dtype: int64"
      ]
     },
     "execution_count": 8,
     "metadata": {},
     "output_type": "execute_result"
    }
   ],
   "source": [
    "#Looking for null values\n",
    "df.isnull().sum()"
   ]
  },
  {
   "cell_type": "code",
   "execution_count": null,
   "id": "ef96c1bd",
   "metadata": {},
   "outputs": [],
   "source": [
    "#Creating values for the elbow\n",
    "X = df.loc[:,[\"Annual_Revenue\", \"Spending_Score\"]]\n",
    "inertia = []\n",
    "k = range(1,20)\n",
    "for i in k:\n",
    "    means_k = KMeans(n_clusters=i, random_state=0)\n",
    "    means_k.fit(X)\n",
    "    inertia.append(means_k.inertia_)\n",
    "\n",
    "#Plotting the elbow\n",
    "plt.plot(k , inertia , 'bo-')\n",
    "plt.xlabel('Number of Clusters') , plt.ylabel('Inertia(WCSS)')\n",
    "plt.show()"
   ]
  },
  {
   "cell_type": "code",
   "execution_count": null,
   "id": "df4fa011",
   "metadata": {},
   "outputs": [],
   "source": [
    "# Fitting K-Means to the dataset\n",
    "kmeans = KMeans(n_clusters = 5, init = 'k-means++', random_state = 42)\n",
    "y_kmeans = kmeans.fit_predict(X)\n",
    "labels = means_k.labels_\n",
    "centroids = kmeans.cluster_centers_\n"
   ]
  },
  {
   "cell_type": "code",
   "execution_count": null,
   "id": "acab586e",
   "metadata": {},
   "outputs": [],
   "source": [
    "print(y_kmeans)"
   ]
  },
  {
   "cell_type": "code",
   "execution_count": null,
   "id": "48e930a3",
   "metadata": {},
   "outputs": [],
   "source": [
    "len(y_kmeans)"
   ]
  },
  {
   "cell_type": "code",
   "execution_count": null,
   "id": "63f27ff5",
   "metadata": {},
   "outputs": [],
   "source": [
    "# Visualising the clusters\n",
    "plt.scatter(X[y_kmeans == 0]['Annual_Revenue'], X[y_kmeans == 0]['Spending_Score'], s = 100, c = 'red', label = 'c1_General')\n",
    "plt.scatter(X[y_kmeans == 1]['Annual_Revenue'], X[y_kmeans == 1]['Spending_Score'], s = 100, c = 'blue', label = 'c2_Miser')\n",
    "plt.scatter(X[y_kmeans == 2]['Annual_Revenue'], X[y_kmeans == 2]['Spending_Score'], s = 100, c = 'green', label = 'c3_Careful')\n",
    "plt.scatter(X[y_kmeans == 3]['Annual_Revenue'], X[y_kmeans == 3]['Spending_Score'], s = 100, c = 'cyan', label = 'c4_Spendthrift')\n",
    "plt.scatter(X[y_kmeans == 4]['Annual_Revenue'], X[y_kmeans == 4]['Spending_Score'], s = 100, c = 'magenta', label = 'c5_Target')\n",
    "plt.scatter(centroids[:, 0], centroids[:, 1], s = 300, c = 'yellow', label = 'Centroids')\n",
    "plt.title('Clusters of Merchants')\n",
    "plt.xlabel('Annual Income (k$)')\n",
    "plt.ylabel('Spending Score (1-100)')\n",
    "plt.legend(bbox_to_anchor=(1.02, 1), loc='upper left', borderaxespad=0)\n",
    "plt.show()"
   ]
  },
  {
   "cell_type": "code",
   "execution_count": null,
   "id": "e172844e",
   "metadata": {},
   "outputs": [],
   "source": [
    "df.loc[:,\"Cluster_Number\"] = y_kmeans"
   ]
  },
  {
   "cell_type": "code",
   "execution_count": null,
   "id": "b1382a36",
   "metadata": {},
   "outputs": [],
   "source": [
    "Cluster_Nature = []\n",
    "\n",
    "for row in df['Cluster_Number']:\n",
    "    if row == 0: \n",
    "        Cluster_Nature.append('General')\n",
    "    elif row == 1: \n",
    "        Cluster_Nature.append('Miser') # Miser is the one who hoards wealth and spends a little money\n",
    "    elif row == 2: Cluster_Nature.append('Careful')\n",
    "    elif row == 3: Cluster_Nature.append('Spendthrift') # spendthrift is the one who spends money in an extravagant\n",
    "    elif row == 4:  Cluster_Nature.append('Target')\n",
    "    else: Cluster_Nature.append('Outlier')\n",
    "\n",
    "df['Cluster_Nature'] = Cluster_Nature\n"
   ]
  },
  {
   "cell_type": "code",
   "execution_count": null,
   "id": "23721872",
   "metadata": {},
   "outputs": [],
   "source": [
    "df.info()"
   ]
  },
  {
   "cell_type": "code",
   "execution_count": null,
   "id": "9dc66308",
   "metadata": {},
   "outputs": [],
   "source": [
    "df.head()"
   ]
  },
  {
   "cell_type": "code",
   "execution_count": null,
   "id": "2beab026",
   "metadata": {},
   "outputs": [],
   "source": [
    "df['Cluster_Nature'].value_counts()"
   ]
  },
  {
   "cell_type": "code",
   "execution_count": null,
   "id": "4aea08e4",
   "metadata": {},
   "outputs": [],
   "source": [
    "uniqueValues = df['Cluster_Nature'].unique()\n",
    "print(uniqueValues)"
   ]
  },
  {
   "cell_type": "code",
   "execution_count": null,
   "id": "be0d417b",
   "metadata": {},
   "outputs": [],
   "source": [
    "target_df = df.loc[df['Cluster_Nature'] == 'Target']"
   ]
  },
  {
   "cell_type": "code",
   "execution_count": null,
   "id": "7f9fbd4e",
   "metadata": {},
   "outputs": [],
   "source": [
    "target_df.head()"
   ]
  },
  {
   "cell_type": "code",
   "execution_count": null,
   "id": "f6530cdb",
   "metadata": {},
   "outputs": [],
   "source": [
    "# Define the ratio of gap of each fragment in a tuple\n",
    "explode = (0.05, 0.05, 0.05,0.05)\n",
    "  \n",
    "# Plotting the pie chart for above dataframe\n",
    "df.groupby(['City']).sum().plot(\n",
    "    kind='pie', y='Spending_Score', autopct='%1.0f%%', explode=explode, legend = False,ylabel='')\n",
    "plt.show()"
   ]
  },
  {
   "cell_type": "code",
   "execution_count": null,
   "id": "bd28deea",
   "metadata": {},
   "outputs": [],
   "source": [
    "# Define the ratio of gap of each fragment in a tuple\n",
    "explode = (0.05, 0.05, 0.05,0.05)\n",
    "  \n",
    "# Plotting the pie chart for above dataframe\n",
    "df.groupby(['Most_Purchased_Product']).sum().plot(\n",
    "    kind='pie', y='Spending_Score', autopct='%1.0f%%', explode=explode, legend = False, ylabel='')\n",
    "plt.show()"
   ]
  },
  {
   "cell_type": "code",
   "execution_count": null,
   "id": "19126aa8",
   "metadata": {},
   "outputs": [],
   "source": [
    "# Cross tabulation between City and Cluster  Nature\n",
    "CrosstabResult=pd.crosstab(index=df['City'],columns=df['Cluster_Nature'])\n",
    "print(CrosstabResult)\n",
    "# Grouped bar chart \n",
    "CrosstabResult.plot.bar(figsize=(7,4), rot=0)\n",
    "plt.legend(bbox_to_anchor=(1.36, 1.04))\n",
    "plt.show()"
   ]
  },
  {
   "cell_type": "code",
   "execution_count": null,
   "id": "727817fc",
   "metadata": {},
   "outputs": [],
   "source": [
    "# Cross tabulation between Product and Cluster  Nature\n",
    "CrosstabResult=pd.crosstab(index=df['Most_Purchased_Product'],columns=df['Cluster_Nature'])\n",
    "print(CrosstabResult)\n",
    "# Grouped bar chart \n",
    "CrosstabResult.plot.bar(figsize=(7,4))\n",
    "plt.legend(bbox_to_anchor=(1.0, 1.0))\n",
    "plt.show()"
   ]
  },
  {
   "cell_type": "code",
   "execution_count": null,
   "id": "f5085aac",
   "metadata": {},
   "outputs": [],
   "source": [
    "#Pivoit Table on city vs Cluster Nature aggregated by Annual Revenue\n",
    "table = pd.pivot_table(df,index=['City','Cluster_Nature'],aggfunc={'Annual_Revenue':np.mean}) #,'Most_Purchased_Product':np.sum\n",
    "print(table)\n",
    "table.plot(kind='bar')\n",
    "plt.show()"
   ]
  },
  {
   "cell_type": "code",
   "execution_count": null,
   "id": "ac80d92f",
   "metadata": {},
   "outputs": [],
   "source": []
  }
 ],
 "metadata": {
  "kernelspec": {
   "display_name": "Python 3 (ipykernel)",
   "language": "python",
   "name": "python3"
  },
  "language_info": {
   "codemirror_mode": {
    "name": "ipython",
    "version": 3
   },
   "file_extension": ".py",
   "mimetype": "text/x-python",
   "name": "python",
   "nbconvert_exporter": "python",
   "pygments_lexer": "ipython3",
   "version": "3.10.9"
  }
 },
 "nbformat": 4,
 "nbformat_minor": 5
}
