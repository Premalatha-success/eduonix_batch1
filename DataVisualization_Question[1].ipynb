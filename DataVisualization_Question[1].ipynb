{
 "cells": [
  {
   "cell_type": "markdown",
   "id": "5b1323ca",
   "metadata": {},
   "source": [
    "### P.S -> To predict whether the passenger is survived or not"
   ]
  },
  {
   "cell_type": "markdown",
   "id": "cf442f94",
   "metadata": {},
   "source": [
    "### 1. Import packages"
   ]
  },
  {
   "cell_type": "code",
   "execution_count": null,
   "id": "a458dcc7",
   "metadata": {},
   "outputs": [],
   "source": []
  },
  {
   "cell_type": "markdown",
   "id": "3c8eeb3e",
   "metadata": {},
   "source": [
    "### 2.Load the Dataset"
   ]
  },
  {
   "cell_type": "code",
   "execution_count": null,
   "id": "f37dde2e",
   "metadata": {},
   "outputs": [],
   "source": []
  },
  {
   "cell_type": "markdown",
   "id": "d856c2c4",
   "metadata": {},
   "source": [
    "### 3.Analyze the dataset like shape,datatypes,missing values,describe etc.."
   ]
  },
  {
   "cell_type": "code",
   "execution_count": null,
   "id": "6bb1c0bd",
   "metadata": {},
   "outputs": [],
   "source": []
  },
  {
   "cell_type": "markdown",
   "id": "461d9857",
   "metadata": {},
   "source": [
    "### 4.Show the distribution of survived and not survived"
   ]
  },
  {
   "cell_type": "code",
   "execution_count": null,
   "id": "cc424e3d",
   "metadata": {},
   "outputs": [],
   "source": []
  },
  {
   "cell_type": "markdown",
   "id": "278f95ce",
   "metadata": {},
   "source": [
    " ### 5.Show the distribution across pclass"
   ]
  },
  {
   "cell_type": "code",
   "execution_count": null,
   "id": "96947b2f",
   "metadata": {},
   "outputs": [],
   "source": []
  },
  {
   "cell_type": "markdown",
   "id": "4fb20b42",
   "metadata": {},
   "source": [
    " ### 6. Show the distribution of Embarked"
   ]
  },
  {
   "cell_type": "code",
   "execution_count": null,
   "id": "2276e8ed",
   "metadata": {},
   "outputs": [],
   "source": []
  },
  {
   "cell_type": "markdown",
   "id": "6b96cf1f",
   "metadata": {},
   "source": [
    "### 7. Show the distribution of Age"
   ]
  },
  {
   "cell_type": "code",
   "execution_count": null,
   "id": "f650dc12",
   "metadata": {},
   "outputs": [],
   "source": []
  },
  {
   "cell_type": "markdown",
   "id": "68e21fa6",
   "metadata": {},
   "source": [
    "### 8. Check whether there are outliers in Age"
   ]
  },
  {
   "cell_type": "code",
   "execution_count": null,
   "id": "d70f5c28",
   "metadata": {},
   "outputs": [],
   "source": []
  },
  {
   "cell_type": "markdown",
   "id": "649ecefc",
   "metadata": {},
   "source": [
    "### 9.Relationship between Pclass and Age"
   ]
  },
  {
   "cell_type": "code",
   "execution_count": null,
   "id": "10957203",
   "metadata": {},
   "outputs": [],
   "source": []
  },
  {
   "cell_type": "markdown",
   "id": "d11f219f",
   "metadata": {},
   "source": [
    "### 10.Pairplot for all the numerical attributes"
   ]
  },
  {
   "cell_type": "code",
   "execution_count": null,
   "id": "4d60bdd2",
   "metadata": {},
   "outputs": [],
   "source": []
  }
 ],
 "metadata": {
  "kernelspec": {
   "display_name": "Python 3 (ipykernel)",
   "language": "python",
   "name": "python3"
  },
  "language_info": {
   "codemirror_mode": {
    "name": "ipython",
    "version": 3
   },
   "file_extension": ".py",
   "mimetype": "text/x-python",
   "name": "python",
   "nbconvert_exporter": "python",
   "pygments_lexer": "ipython3",
   "version": "3.10.9"
  }
 },
 "nbformat": 4,
 "nbformat_minor": 5
}
