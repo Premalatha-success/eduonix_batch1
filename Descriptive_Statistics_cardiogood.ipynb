{
 "cells": [
  {
   "cell_type": "markdown",
   "id": "af6d8e5e",
   "metadata": {},
   "source": [
    "\n",
    "## **Cardio Good Fitness Case Study - Descriptive Statistics**"
   ]
  },
  {
   "cell_type": "markdown",
   "id": "4c6395f4",
   "metadata": {},
   "source": [
    "The market research team at AdRight is assigned the task to identify the profile of the typical customer for each treadmill product offered by CardioGood Fitness. The market research team decides to investigate whether there are differences across the product lines with respect to customer characteristics. The team decides to collect data on individuals who purchased a treadmill at a CardioGoodFitness retail store during the prior three months. The data are stored in the CardioGoodFitness.csv file."
   ]
  },
  {
   "cell_type": "markdown",
   "id": "ecd31038",
   "metadata": {},
   "source": [
    "The team identifies the following customer variables to study:\n",
    "product purchased, TM195, TM498, or TM798;\n",
    "gender;\n",
    "age, in years;\n",
    "education, in years;\n",
    "relationship status, single or partnered;\n",
    "annual household income ;\n",
    "average number of times the customer plans to use the treadmill each week;\n",
    "average number of miles the customer expects to walk/run each week;\n",
    "and self-rated fitness on an 1-to-5 scale, where 1 is poor shape and 5 is excellent shape."
   ]
  },
  {
   "cell_type": "code",
   "execution_count": null,
   "id": "5bc9e526",
   "metadata": {},
   "outputs": [],
   "source": [
    "## Import libraries and packages\n",
    "import numpy as np\n",
    "import pandas as pd\n",
    "import matplotlib.pyplot as plt\n",
    "%matplotlib inline\n",
    "import seaborn as sns\n",
    "import warnings\n",
    "warnings.filterwarnings(\"ignore\")"
   ]
  },
  {
   "cell_type": "code",
   "execution_count": null,
   "id": "a3d6da39",
   "metadata": {},
   "outputs": [],
   "source": [
    "## load the dataset\n",
    "df=pd.read_csv(\"CardioGoodFitness-1.csv\")"
   ]
  },
  {
   "cell_type": "code",
   "execution_count": null,
   "id": "bdb65c61",
   "metadata": {},
   "outputs": [],
   "source": [
    "df.sample(10)"
   ]
  },
  {
   "cell_type": "code",
   "execution_count": null,
   "id": "a29548de",
   "metadata": {},
   "outputs": [],
   "source": [
    "df.shape"
   ]
  },
  {
   "cell_type": "markdown",
   "id": "5d371372",
   "metadata": {},
   "source": [
    "#### There are 180 rows and 9 columns "
   ]
  },
  {
   "cell_type": "code",
   "execution_count": null,
   "id": "76868829",
   "metadata": {},
   "outputs": [],
   "source": [
    "df.dtypes"
   ]
  },
  {
   "cell_type": "code",
   "execution_count": null,
   "id": "80f9289f",
   "metadata": {},
   "outputs": [],
   "source": [
    "df.info()"
   ]
  },
  {
   "cell_type": "code",
   "execution_count": null,
   "id": "0d17c492",
   "metadata": {},
   "outputs": [],
   "source": [
    "df.isnull().sum()"
   ]
  },
  {
   "cell_type": "code",
   "execution_count": null,
   "id": "125ebeaf",
   "metadata": {},
   "outputs": [],
   "source": [
    "df.describe(include=\"all\")"
   ]
  },
  {
   "cell_type": "code",
   "execution_count": null,
   "id": "9b228a55",
   "metadata": {},
   "outputs": [],
   "source": [
    "sns.countplot(x=\"Product\",data=df,palette=\"Paired\")"
   ]
  },
  {
   "cell_type": "code",
   "execution_count": null,
   "id": "c0d74f3e",
   "metadata": {},
   "outputs": [],
   "source": [
    "df[\"Product\"].nunique()"
   ]
  },
  {
   "cell_type": "code",
   "execution_count": null,
   "id": "90390dd1",
   "metadata": {},
   "outputs": [],
   "source": [
    "df[\"Product\"].unique()"
   ]
  },
  {
   "cell_type": "code",
   "execution_count": null,
   "id": "c0b15e6a",
   "metadata": {},
   "outputs": [],
   "source": [
    "df[\"Product\"].value_counts()"
   ]
  },
  {
   "cell_type": "code",
   "execution_count": null,
   "id": "d13e5944",
   "metadata": {},
   "outputs": [],
   "source": [
    "### Gender"
   ]
  },
  {
   "cell_type": "code",
   "execution_count": null,
   "id": "82886fb0",
   "metadata": {},
   "outputs": [],
   "source": [
    "### Marital Status"
   ]
  },
  {
   "cell_type": "code",
   "execution_count": null,
   "id": "6cb376c3",
   "metadata": {},
   "outputs": [],
   "source": [
    "df.hist()\n",
    "plt.show()"
   ]
  },
  {
   "cell_type": "code",
   "execution_count": null,
   "id": "e22946c7",
   "metadata": {},
   "outputs": [],
   "source": [
    "df.hist(figsize=(10,10),color=\"black\")\n",
    "plt.show()"
   ]
  },
  {
   "cell_type": "code",
   "execution_count": null,
   "id": "6f1e83e2",
   "metadata": {},
   "outputs": [],
   "source": [
    "sns.distplot(df[\"Age\"])\n",
    "plt.show()"
   ]
  },
  {
   "cell_type": "code",
   "execution_count": null,
   "id": "6b1895b5",
   "metadata": {},
   "outputs": [],
   "source": [
    "sns.boxplot(x=\"Age\",data=df,palette=\"Set3\")\n",
    "plt.show()"
   ]
  },
  {
   "cell_type": "code",
   "execution_count": null,
   "id": "79c99af7",
   "metadata": {},
   "outputs": [],
   "source": [
    "q3=33\n",
    "q1=24\n",
    "iqr=q3-q1\n",
    "iqr"
   ]
  },
  {
   "cell_type": "code",
   "execution_count": null,
   "id": "a078e001",
   "metadata": {},
   "outputs": [],
   "source": [
    "q1-1.5*iqr\n"
   ]
  },
  {
   "cell_type": "code",
   "execution_count": null,
   "id": "f1ea162f",
   "metadata": {},
   "outputs": [],
   "source": [
    "q3+1.5*iqr"
   ]
  },
  {
   "cell_type": "code",
   "execution_count": null,
   "id": "7cd46701",
   "metadata": {},
   "outputs": [],
   "source": [
    "sns.countplot(x=\"Product\",hue=\"Gender\",data=df)"
   ]
  },
  {
   "cell_type": "code",
   "execution_count": null,
   "id": "5f21e0b3",
   "metadata": {},
   "outputs": [],
   "source": [
    "pd.crosstab(df[\"Product\"],df[\"Gender\"])"
   ]
  },
  {
   "cell_type": "code",
   "execution_count": null,
   "id": "bd08c9c3",
   "metadata": {},
   "outputs": [],
   "source": [
    "### Product and Marital Status"
   ]
  },
  {
   "cell_type": "code",
   "execution_count": null,
   "id": "068f910e",
   "metadata": {},
   "outputs": [],
   "source": [
    "sns.boxplot(x=\"Product\",y=\"Age\",data=df,palette=\"Set2\")"
   ]
  },
  {
   "cell_type": "code",
   "execution_count": null,
   "id": "f2e3f992",
   "metadata": {},
   "outputs": [],
   "source": [
    "sns.boxplot(x=\"Product\",y=\"Income\",data=df)"
   ]
  },
  {
   "cell_type": "code",
   "execution_count": null,
   "id": "3350690d",
   "metadata": {},
   "outputs": [],
   "source": [
    "sns.pairplot(df)"
   ]
  },
  {
   "cell_type": "code",
   "execution_count": null,
   "id": "d9dda2be",
   "metadata": {},
   "outputs": [],
   "source": [
    "corr=df.corr()\n",
    "corr"
   ]
  },
  {
   "cell_type": "code",
   "execution_count": null,
   "id": "40381b9c",
   "metadata": {},
   "outputs": [],
   "source": [
    "sns.heatmap(corr,annot=True)"
   ]
  },
  {
   "cell_type": "code",
   "execution_count": null,
   "id": "7f0b843c",
   "metadata": {},
   "outputs": [],
   "source": [
    "### Practice  -> Titanic dataset \n",
    "\n",
    "P.S-> Survived or Not?"
   ]
  }
 ],
 "metadata": {
  "kernelspec": {
   "display_name": "Python 3 (ipykernel)",
   "language": "python",
   "name": "python3"
  },
  "language_info": {
   "codemirror_mode": {
    "name": "ipython",
    "version": 3
   },
   "file_extension": ".py",
   "mimetype": "text/x-python",
   "name": "python",
   "nbconvert_exporter": "python",
   "pygments_lexer": "ipython3",
   "version": "3.10.9"
  }
 },
 "nbformat": 4,
 "nbformat_minor": 5
}
